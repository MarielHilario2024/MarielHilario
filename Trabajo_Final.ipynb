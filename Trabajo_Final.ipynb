{
  "metadata": {
    "kernelspec": {
      "name": "python",
      "display_name": "Python (Pyodide)",
      "language": "python"
    },
    "language_info": {
      "codemirror_mode": {
        "name": "python",
        "version": 3
      },
      "file_extension": ".py",
      "mimetype": "text/x-python",
      "name": "python",
      "nbconvert_exporter": "python",
      "pygments_lexer": "ipython3",
      "version": "3.8"
    }
  },
  "nbformat_minor": 4,
  "nbformat": 4,
  "cells": [
    {
      "cell_type": "code",
      "source": "",
      "metadata": {
        "trusted": true
      },
      "outputs": [],
      "execution_count": null
    },
    {
      "cell_type": "markdown",
      "source": "\n# h1 Trabajo Final de Mariel Hilario para acceder a Certificado Profesional ",
      "metadata": {}
    },
    {
      "cell_type": "markdown",
      "source": "\n*Trabajo Final para acceder a titulación de Certificado Profesional de Data Science *",
      "metadata": {}
    },
    {
      "cell_type": "code",
      "source": "# H3: Listado de Lenguajes:",
      "metadata": {
        "trusted": true
      },
      "outputs": [],
      "execution_count": 1
    },
    {
      "cell_type": "markdown",
      "source": "1. R.\n2. Python.\n3. SQL.\n4. Java.\n5. Scala.\n6. Julia.\n7. MATLAB.\n    ",
      "metadata": {}
    },
    {
      "cell_type": "markdown",
      "source": "- NumPy: Cálculos numéricos eficientes.\n- Pandas: Manipulación de datos tabulares.\n- Matplotlid: Creación de gráficos personalizados.\n- Scikit: Learn: Machine Learning sencillo.\n- TensorFlow: Deep learning potente.\n- PySpark: Procesamiento de big data",
      "metadata": {}
    },
    {
      "cell_type": "markdown",
      "source": "\n| Nombre de Herramientas | Funcionalidad |\n| -------------| ------ |\n| Pyton | Lenguage de programación más populares |\n| R | ánalisis estadístico y representación gráfica |\n| SQL | Lenguaje de Consulta Estructurada |",
      "metadata": {}
    },
    {
      "cell_type": "code",
      "source": "#expresiones aritméticas\nx = pow (4,3)\nprint (x)",
      "metadata": {
        "trusted": true
      },
      "outputs": [
        {
          "name": "stdout",
          "text": "64\n",
          "output_type": "stream"
        }
      ],
      "execution_count": 2
    },
    {
      "cell_type": "code",
      "source": "#multiplicación\n19 * 45",
      "metadata": {
        "trusted": true
      },
      "outputs": [
        {
          "execution_count": 2,
          "output_type": "execute_result",
          "data": {
            "text/plain": "855"
          },
          "metadata": {}
        }
      ],
      "execution_count": 2
    },
    {
      "cell_type": "code",
      "source": "# suma\n199 + 200",
      "metadata": {
        "trusted": true
      },
      "outputs": [
        {
          "execution_count": 4,
          "output_type": "execute_result",
          "data": {
            "text/plain": "399"
          },
          "metadata": {}
        }
      ],
      "execution_count": 4
    },
    {
      "cell_type": "markdown",
      "source": "# Objetivos \n1. Aprender sobre  Jupyterlite notebook.\n2. Profundizar conocimientos.\n3. Emprender esta carrera.",
      "metadata": {}
    },
    {
      "cell_type": "markdown",
      "source": "## Author\n\n[Mariel Hilario](https://www.linkedin.com/in/fátima-mariel-hilario-de-rivera-263a02118/) \n\n\n\n## Change Log\n\n| Date (YYYY-MM-DD) | Version | Changed By | Change Description                 |\n| ----------------- | ------- | ---------- | ---------------------------------- |\n| 2024-07-12        | 0.1     | Mariel Hilario     | Created Initial version    |\n\n\n## <h3 align=\"center\"> © IBM Corporation 2024. All rights reserved. <h3/>\n",
      "metadata": {}
    },
    {
      "cell_type": "code",
      "source": "",
      "metadata": {
        "trusted": true
      },
      "outputs": [],
      "execution_count": null
    }
  ]
}